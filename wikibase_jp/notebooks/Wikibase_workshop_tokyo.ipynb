{
 "cells": [
  {
   "cell_type": "markdown",
   "metadata": {},
   "source": [
    "# Install Wikibase\n",
    "During the workshop at the [National institute of Informatics (NII)](https://wikibase.peatix.com/) you will be guided through the step required to install a local Wikibase instance. Either on your local computer, a server, or a VM. Wikibase is the underlying infrastructure of [Wikidata](http://www.wikidata.org). Since 2017, wikibase is also available through Docker. The docker image was presented to the wikidata community in 2017 as a birthday present during the first edition of WikidataCon, which was organised to comemorate the [5th anniversary of Wikidata](https://www.wikidata.org/wiki/Wikidata:Fifth_Birthday/Presents), by [addshore](https://www.wikidata.org/wiki/User:Addshore). \n",
    "\n",
    "In this workshop we will build on this birthday present. To continue [docker](https://www.docker.com/) and [docker-compose](https://docs.docker.com/compose/install/) needs to be installed. The instructions below are for an install on Ubuntu. For other systems, please consult the instruction page on the respective websites (docker and docker compose).\n",
    "\n",
    "## Preparing system\n",
    "\n",
    "### Update the system\n",
    "```bash \n",
    "sudo apt-get update\n",
    "```\n",
    "\n",
    "### Install packages to allow apt to use a repository over HTTPS:\n",
    "```bash\n",
    "sudo apt-get install --yes \\\n",
    "     apt-transport-https \\\n",
    "     ca-certificates \\\n",
    "     curl \\\n",
    "     gnupg2 \\\n",
    "     software-properties-common\n",
    "```\n",
    "     \n",
    "### Add Docker’s official GPG key:\n",
    "\n",
    "```bash\n",
    "curl -fsSL https://download.docker.com/linux/$(. /etc/os-release; echo \"$ID\")/gpg | sudo apt-key add -\n",
    "```\n",
    "\n",
    "### Add Docker's stable repository\n",
    "```bash\n",
    "sudo add-apt-repository \\\n",
    "   \"deb [arch=amd64] https://download.docker.com/linux/$(. /etc/os-release; echo \"$ID\") \\\n",
    "   $(lsb_release -cs) \\\n",
    "   stable\"\n",
    "```\n",
    "\n",
    "### Update the apt package index:\n",
    "```bash \n",
    "sudo apt-get update\n",
    "```\n",
    "\n",
    "### Install the latest version of Docker CE\n",
    "```bash \n",
    "sudo apt-get --yes install docker-ce\n",
    "```\n",
    "\n",
    "### Run Hellow World\n",
    "```bash\n",
    "sudo docker run hello-world\n",
    "```\n",
    "\n",
    "##    Install Docker Compose\n",
    "\n",
    "### Install pip\n",
    "```bash\n",
    "sudo apt-get install --yes \\\n",
    "     python-pip\n",
    "```\n",
    "\n",
    "\n",
    "### Install docker-composer using pip\n",
    "```bash\n",
    "sudo pip install docker-compose\n",
    "```\n",
    "\n",
    "##    Clone wikibase-docker    \n",
    "\n",
    "### Install git\n",
    "```bash\n",
    "sudo apt-get install --yes \\\n",
    "     git\n",
    "```\n",
    "\n",
    "### Clone the repo\n",
    "```bash\n",
    "git clone https://github.com/wmde/wikibase-docker.git\n",
    "```\n",
    "\n",
    "### Switch to the wikibase-docker directory\n",
    "```bash \n",
    "cd wikibase-docker/\n",
    "```\n",
    "\n",
    "## Run it\n",
    "\n",
    "### Pull the images from docker hub\n",
    "```bash\n",
    "sudo docker-compose pull\n",
    "```\n",
    "\n",
    "### Run the services\n",
    "```bash\n",
    "sudo docker-compose up --no-build -d\n",
    "```\n",
    "\n",
    "## Running it all in one. \n",
    "The above steps can also be run by running the [setup.sh](https://github.com/wmde/wikibase-docker/blob/master/setup.sh)\n",
    "\n",
    "A freshly installed Wikibase is now running on your system and the following screen should be visible\n",
    "\n",
    "![alt text](img/wikibase_hello_world.png)\n",
    "![wbqs](img/wdqs_hello_world.png)\n",
    "\n",
    "Upon completion, you should have the following entry points into your installed wikibase:\n",
    "* A Wikibase, available at http://127.0.0.1:8181 (or IP address)\n",
    "* A Wikibase Query Service available at http://127.0.0.1:8282 (or IP address)\n",
    "* QuickStatements, available at http://127.0.0.1:9191 (or IP address)\n",
    "* Bare SPARQL (Blazegraph) endpoint at http://127.0.0.1:8989/bigdata/ (or IP address)\n"
   ]
  },
  {
   "cell_type": "markdown",
   "metadata": {},
   "source": [
    "# configuring wikibase\n",
    "Above is the default screen, however it is still a rather empty system. In this step we will be creating properties in the freshly installed Wikibase system. There are two ways to do this. One through the webinterface, the other using the API through a programming library such as the [Wikidata Integrator](https://github.com/SuLab/WikidataIntegrator)\n",
    "\n",
    "## Manually creating Properties and Items.\n",
    "Adding Properties and Items is a bit hidden on the installed system. To add either new properties or items, go to the \"special pages\" in the tools sub-menu in the left banner.\n",
    "\n",
    "We start creating properties, by selecting \"Create a new Property\", at the bottom end of those special pages. \n",
    "\n",
    "## Programmatically creating Property and Items. \n",
    "Creating properties can be a tedious process, especially if the underlying envisioned schema includes many levels of arcs, or an extended number of properties. In that can it can be helpful to create the properties automatically. The following script would create a new property \n"
   ]
  },
  {
   "cell_type": "code",
   "execution_count": 3,
   "metadata": {
    "collapsed": true
   },
   "outputs": [
    {
     "name": "stdout",
     "output_type": "stream",
     "text": [
      "http://127.0.0.1:7171/w/api.php\n",
      "Successfully logged in as Test\n",
      "Error while writing to Wikidata\n"
     ]
    },
    {
     "ename": "WDApiError",
     "evalue": "{'error': {'code': 'failed-save', 'info': 'The save has failed.', 'messages': [{'name': 'wikibase-api-failed-save', 'parameters': [], 'html': {'*': 'The save has failed.'}}, {'name': 'wikibase-validator-label-conflict', 'parameters': ['instance of', 'en', '[[Property:P1|P1]]'], 'html': {'*': '言語コード en に関連付けられたラベル「instance of」を持つプロパティ (<a href=\"/wiki/Property:P1\" title=\"Property:P1\">P1</a>) が既にあります。'}}], '*': 'See http://127.0.0.1:7171/w/api.php for API usage. Subscribe to the mediawiki-api-announce mailing list at &lt;https://lists.wikimedia.org/mailman/listinfo/mediawiki-api-announce&gt; for notice of API deprecations and breaking changes.'}}",
     "output_type": "error",
     "traceback": [
      "\u001b[0;31m---------------------------------------------------------------------------\u001b[0m",
      "\u001b[0;31mWDApiError\u001b[0m                                Traceback (most recent call last)",
      "\u001b[0;32m<ipython-input-3-1d50c0b2ece3>\u001b[0m in \u001b[0;36m<module>\u001b[0;34m\u001b[0m\n\u001b[1;32m     19\u001b[0m \u001b[0;31m## Properties accorind to: https://docs.google.com/spreadsheets/d/1RhxhzRW_Id10uOXiaFeubIG0z6b0I7k9VN6Sg2KqZG8/edit#gid=0\u001b[0m\u001b[0;34m\u001b[0m\u001b[0;34m\u001b[0m\u001b[0;34m\u001b[0m\u001b[0m\n\u001b[1;32m     20\u001b[0m \u001b[0;31m# Session\u001b[0m\u001b[0;34m\u001b[0m\u001b[0;34m\u001b[0m\u001b[0;34m\u001b[0m\u001b[0m\n\u001b[0;32m---> 21\u001b[0;31m \u001b[0mcreateProperty\u001b[0m\u001b[0;34m(\u001b[0m\u001b[0mlogin\u001b[0m\u001b[0;34m,\u001b[0m \u001b[0;34m\"instance of\"\u001b[0m\u001b[0;34m,\u001b[0m \u001b[0;34m\"is a\"\u001b[0m\u001b[0;34m,\u001b[0m \u001b[0;34m\"wikibase-item\"\u001b[0m\u001b[0;34m)\u001b[0m\u001b[0;34m\u001b[0m\u001b[0;34m\u001b[0m\u001b[0m\n\u001b[0m\u001b[1;32m     22\u001b[0m \u001b[0mcreateProperty\u001b[0m\u001b[0;34m(\u001b[0m\u001b[0mlogin\u001b[0m\u001b[0;34m,\u001b[0m \u001b[0;34m\"subclass of\"\u001b[0m\u001b[0;34m,\u001b[0m \u001b[0;34m\"subclass of\"\u001b[0m\u001b[0;34m,\u001b[0m \u001b[0;34m\"wikibase-item\"\u001b[0m\u001b[0;34m)\u001b[0m\u001b[0;34m\u001b[0m\u001b[0;34m\u001b[0m\u001b[0m\n\u001b[1;32m     23\u001b[0m \u001b[0mcreateProperty\u001b[0m\u001b[0;34m(\u001b[0m\u001b[0mlogin\u001b[0m\u001b[0;34m,\u001b[0m \u001b[0;34m\"same as\"\u001b[0m\u001b[0;34m,\u001b[0m \u001b[0;34m\"external IRI mapping\"\u001b[0m\u001b[0;34m,\u001b[0m \u001b[0;34m\"URL\"\u001b[0m\u001b[0;34m)\u001b[0m\u001b[0;34m\u001b[0m\u001b[0;34m\u001b[0m\u001b[0m\n",
      "\u001b[0;32m<ipython-input-3-1d50c0b2ece3>\u001b[0m in \u001b[0;36mcreateProperty\u001b[0;34m(login, label, description, property_datatype)\u001b[0m\n\u001b[1;32m     14\u001b[0m   \u001b[0mitem\u001b[0m\u001b[0;34m.\u001b[0m\u001b[0mset_label\u001b[0m\u001b[0;34m(\u001b[0m\u001b[0mlabel\u001b[0m\u001b[0;34m)\u001b[0m\u001b[0;34m\u001b[0m\u001b[0;34m\u001b[0m\u001b[0m\n\u001b[1;32m     15\u001b[0m   \u001b[0mitem\u001b[0m\u001b[0;34m.\u001b[0m\u001b[0mset_description\u001b[0m\u001b[0;34m(\u001b[0m\u001b[0mdescription\u001b[0m\u001b[0;34m)\u001b[0m\u001b[0;34m\u001b[0m\u001b[0;34m\u001b[0m\u001b[0m\n\u001b[0;32m---> 16\u001b[0;31m   \u001b[0mprint\u001b[0m\u001b[0;34m(\u001b[0m\u001b[0mitem\u001b[0m\u001b[0;34m.\u001b[0m\u001b[0mwrite\u001b[0m\u001b[0;34m(\u001b[0m\u001b[0mlogin\u001b[0m\u001b[0;34m,\u001b[0m \u001b[0mentity_type\u001b[0m\u001b[0;34m=\u001b[0m\u001b[0;34m\"property\"\u001b[0m\u001b[0;34m,\u001b[0m \u001b[0mproperty_datatype\u001b[0m\u001b[0;34m=\u001b[0m\u001b[0mproperty_datatype\u001b[0m\u001b[0;34m)\u001b[0m\u001b[0;34m)\u001b[0m\u001b[0;34m\u001b[0m\u001b[0;34m\u001b[0m\u001b[0m\n\u001b[0m\u001b[1;32m     17\u001b[0m \u001b[0;34m\u001b[0m\u001b[0m\n\u001b[1;32m     18\u001b[0m \u001b[0;34m\u001b[0m\u001b[0m\n",
      "\u001b[0;32m/usr/local/lib/python3.7/site-packages/wikidataintegrator/wdi_core.py\u001b[0m in \u001b[0;36mwrite\u001b[0;34m(self, login, bot_account, edit_summary, entity_type, property_datatype, max_retries, retry_after)\u001b[0m\n\u001b[1;32m    942\u001b[0m                     \u001b[0;32mraise\u001b[0m \u001b[0mNonUniqueLabelDescriptionPairError\u001b[0m\u001b[0;34m(\u001b[0m\u001b[0mjson_data\u001b[0m\u001b[0;34m)\u001b[0m\u001b[0;34m\u001b[0m\u001b[0;34m\u001b[0m\u001b[0m\n\u001b[1;32m    943\u001b[0m                 \u001b[0;32melse\u001b[0m\u001b[0;34m:\u001b[0m\u001b[0;34m\u001b[0m\u001b[0;34m\u001b[0m\u001b[0m\n\u001b[0;32m--> 944\u001b[0;31m                     \u001b[0;32mraise\u001b[0m \u001b[0mWDApiError\u001b[0m\u001b[0;34m(\u001b[0m\u001b[0mjson_data\u001b[0m\u001b[0;34m)\u001b[0m\u001b[0;34m\u001b[0m\u001b[0;34m\u001b[0m\u001b[0m\n\u001b[0m\u001b[1;32m    945\u001b[0m             \u001b[0;32melif\u001b[0m \u001b[0;34m'error'\u001b[0m \u001b[0;32min\u001b[0m \u001b[0mjson_data\u001b[0m\u001b[0;34m.\u001b[0m\u001b[0mkeys\u001b[0m\u001b[0;34m(\u001b[0m\u001b[0;34m)\u001b[0m\u001b[0;34m:\u001b[0m\u001b[0;34m\u001b[0m\u001b[0;34m\u001b[0m\u001b[0m\n\u001b[1;32m    946\u001b[0m                 \u001b[0;32mraise\u001b[0m \u001b[0mWDApiError\u001b[0m\u001b[0;34m(\u001b[0m\u001b[0mjson_data\u001b[0m\u001b[0;34m)\u001b[0m\u001b[0;34m\u001b[0m\u001b[0;34m\u001b[0m\u001b[0m\n",
      "\u001b[0;31mWDApiError\u001b[0m: {'error': {'code': 'failed-save', 'info': 'The save has failed.', 'messages': [{'name': 'wikibase-api-failed-save', 'parameters': [], 'html': {'*': 'The save has failed.'}}, {'name': 'wikibase-validator-label-conflict', 'parameters': ['instance of', 'en', '[[Property:P1|P1]]'], 'html': {'*': '言語コード en に関連付けられたラベル「instance of」を持つプロパティ (<a href=\"/wiki/Property:P1\" title=\"Property:P1\">P1</a>) が既にあります。'}}], '*': 'See http://127.0.0.1:7171/w/api.php for API usage. Subscribe to the mediawiki-api-announce mailing list at &lt;https://lists.wikimedia.org/mailman/listinfo/mediawiki-api-announce&gt; for notice of API deprecations and breaking changes.'}}"
     ]
    }
   ],
   "source": [
    "from wikidataintegrator import wdi_core, wdi_login\n",
    "\n",
    "\n",
    "mediawiki_api_url = \"http://127.0.0.1:7171/w/api.php\"\n",
    "sparql_endpoint_url = \"http://127.0.0.1:7272/proxy/wdqs/bigdata/namespace/wdq/sparql\"\n",
    "username = \"Test\"\n",
    "password = \"test2\"\n",
    "login = wdi_login.WDLogin(username, password, mediawiki_api_url=mediawiki_api_url)\n",
    "\n",
    "def createProperty(login, label, description, property_datatype):\n",
    "  s = []\n",
    "  localEntityEngine = wdi_core.WDItemEngine.wikibase_item_engine_factory(mediawiki_api_url,sparql_endpoint_url)\n",
    "  item = localEntityEngine(data=s)\n",
    "  item.set_label(label)\n",
    "  item.set_description(description)\n",
    "  print(item.write(login, entity_type=\"property\", property_datatype=property_datatype))\n",
    "\n",
    "\n",
    "## Properties accorind to: https://docs.google.com/spreadsheets/d/1RhxhzRW_Id10uOXiaFeubIG0z6b0I7k9VN6Sg2KqZG8/edit#gid=0\n",
    "# Session\n",
    "createProperty(login, \"instance of\", \"is a\", \"wikibase-item\")\n",
    "createProperty(login, \"subclass of\", \"subclass of\", \"wikibase-item\")\n",
    "createProperty(login, \"same as\", \"external IRI mapping\", \"URL\")"
   ]
  },
  {
   "cell_type": "markdown",
   "metadata": {},
   "source": [
    "The following code snippet adds Item to the Wikibase"
   ]
  },
  {
   "cell_type": "code",
   "execution_count": 4,
   "metadata": {},
   "outputs": [
    {
     "name": "stdout",
     "output_type": "stream",
     "text": [
      "{'claims': {}, 'labels': {'en': {'language': 'en', 'value': 'first description'}}}\n"
     ]
    },
    {
     "name": "stderr",
     "output_type": "stream",
     "text": [
      "/usr/local/lib/python3.7/site-packages/wikidataintegrator/wdi_core.py:168: UserWarning: mapping relation types are being ignored\n",
      "  warnings.warn(\"mapping relation types are being ignored\")\n"
     ]
    }
   ],
   "source": [
    "wdPage = wdi_core.WDItemEngine(new_item=True, mediawiki_api_url=mediawiki_api_url, sparql_endpoint_url=sparql_endpoint_url)\n",
    "wdPage.set_label(\"first label\", lang='en')\n",
    "wdPage.set_label(\"first description\", lang=\"en\")\n",
    "print(wdPage.get_wd_json_representation())"
   ]
  },
  {
   "cell_type": "code",
   "execution_count": 5,
   "metadata": {},
   "outputs": [
    {
     "data": {
      "text/plain": [
       "'Q1'"
      ]
     },
     "execution_count": 5,
     "metadata": {},
     "output_type": "execute_result"
    }
   ],
   "source": [
    "wdPage.write(login)"
   ]
  },
  {
   "cell_type": "code",
   "execution_count": 6,
   "metadata": {},
   "outputs": [],
   "source": [
    "wdPage.set_label(\"eerste label\", lang='nl')\n",
    "wdPage.set_label(\"eerste beschrijving\", lang=\"nl\")"
   ]
  },
  {
   "cell_type": "code",
   "execution_count": 7,
   "metadata": {},
   "outputs": [
    {
     "data": {
      "text/plain": [
       "'Q1'"
      ]
     },
     "execution_count": 7,
     "metadata": {},
     "output_type": "execute_result"
    }
   ],
   "source": [
    "wdPage.write(login)"
   ]
  },
  {
   "cell_type": "code",
   "execution_count": 8,
   "metadata": {},
   "outputs": [
    {
     "name": "stderr",
     "output_type": "stream",
     "text": [
      "/usr/local/lib/python3.7/site-packages/wikidataintegrator/wdi_core.py:168: UserWarning: mapping relation types are being ignored\n",
      "  warnings.warn(\"mapping relation types are being ignored\")\n"
     ]
    },
    {
     "data": {
      "text/plain": [
       "'Q2'"
      ]
     },
     "execution_count": 8,
     "metadata": {},
     "output_type": "execute_result"
    }
   ],
   "source": [
    "wdPage2 = wdi_core.WDItemEngine(new_item=True, mediawiki_api_url=mediawiki_api_url, sparql_endpoint_url=sparql_endpoint_url)\n",
    "wdPage2.set_label(\"label\", lang='en')\n",
    "wdPage2.set_label(\"description\", lang=\"en\")\n",
    "wdPage2.write(login)"
   ]
  },
  {
   "cell_type": "code",
   "execution_count": 11,
   "metadata": {},
   "outputs": [],
   "source": [
    "data = [wdi_core.WDItemID(value=\"Q2\", prop_nr='P1')]"
   ]
  },
  {
   "cell_type": "code",
   "execution_count": 12,
   "metadata": {},
   "outputs": [
    {
     "name": "stderr",
     "output_type": "stream",
     "text": [
      "/usr/local/lib/python3.7/site-packages/wikidataintegrator/wdi_core.py:168: UserWarning: mapping relation types are being ignored\n",
      "  warnings.warn(\"mapping relation types are being ignored\")\n"
     ]
    },
    {
     "data": {
      "text/plain": [
       "'Q1'"
      ]
     },
     "execution_count": 12,
     "metadata": {},
     "output_type": "execute_result"
    }
   ],
   "source": [
    "wdPage = wdi_core.WDItemEngine(wd_item_id=\"Q1\", data=data, mediawiki_api_url=mediawiki_api_url, sparql_endpoint_url=sparql_endpoint_url)\n",
    "wdPage.write(login)"
   ]
  },
  {
   "cell_type": "code",
   "execution_count": null,
   "metadata": {},
   "outputs": [],
   "source": []
  }
 ],
 "metadata": {
  "kernelspec": {
   "display_name": "Python 3",
   "language": "python",
   "name": "python3"
  },
  "language_info": {
   "codemirror_mode": {
    "name": "ipython",
    "version": 3
   },
   "file_extension": ".py",
   "mimetype": "text/x-python",
   "name": "python",
   "nbconvert_exporter": "python",
   "pygments_lexer": "ipython3",
   "version": "3.7.4"
  }
 },
 "nbformat": 4,
 "nbformat_minor": 2
}
